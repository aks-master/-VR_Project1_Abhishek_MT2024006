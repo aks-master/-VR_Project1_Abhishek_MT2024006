{
 "cells": [
  {
   "cell_type": "code",
   "execution_count": 56,
   "metadata": {},
   "outputs": [],
   "source": [
    "# Import necessary libraries\n",
    "import numpy as np  # For numerical operations\n",
    "import os  # For interacting with the operating system\n",
    "import cv2  # For image processing\n",
    "from sklearn.model_selection import train_test_split  # For splitting the dataset into training and testing sets\n",
    "from sklearn.metrics import classification_report, confusion_matrix, accuracy_score  # For evaluating the model\n",
    "from sklearn.metrics import ConfusionMatrixDisplay  # For displaying the confusion matrix\n",
    "from sklearn.svm import SVC  # For Support Vector Machine classifier\n",
    "from sklearn.neural_network import MLPClassifier  # For Neural Network classifier\n",
    "from skimage.feature import hog  # For extracting Histogram of Oriented Gradients (HOG) features from images\n",
    "from tabulate import tabulate  # For displaying the results in a tabular format\n",
    "import tensorflow as tf  # For deep learning operations\n",
    "from tensorflow.keras.models import Sequential  # For creating a linear stack of layers for the neural network\n",
    "from tensorflow.keras.layers import Conv2D, MaxPooling2D, Flatten, Dense, Dropout, BatchNormalization  # For defining different types of layers in the neural network\n",
    "from tensorflow.keras.optimizers import Adam, SGD  # For optimizing the neural network"
   ]
  },
  {
   "cell_type": "code",
   "execution_count": 57,
   "metadata": {},
   "outputs": [],
   "source": [
    "# Code to extract features from images, either HOG or raw pixels.\n",
    "\n",
    "def extract_features(image_path, use_hog):\n",
    "    \"\"\"Load image and extract features (HOG or raw pixels).\"\"\"\n",
    "    # Load the image in grayscale mode\n",
    "    image = cv2.imdecode(np.fromfile(image_path, dtype=np.uint8), cv2.IMREAD_GRAYSCALE)\n",
    "    \n",
    "    # Check if the image was loaded successfully\n",
    "    if image is None:\n",
    "        raise ValueError(f\"Image not found or unable to load: {image_path}\")\n",
    "\n",
    "    # Resize the image to a fixed size (128x128)\n",
    "    image = cv2.resize(image, (128, 128))\n",
    "\n",
    "    if use_hog:\n",
    "        # Extract HOG features for ML classifiers\n",
    "        features, _ = hog(image, pixels_per_cell=(8, 8), cells_per_block=(2, 2), visualize=True)\n",
    "        return features  # Return 1D feature vector\n",
    "    else:\n",
    "        # Normalize pixel values for CNN (range 0-1)\n",
    "        return image.reshape(128, 128, 1) / 255.0  # Return 2D image for CNN\n"
   ]
  },
  {
   "cell_type": "markdown",
   "metadata": {},
   "source": [
    "Part A:\n",
    "Binary Classification Using Handcrafted Features and ML Classifiers (4 Marks) \n",
    "- i. Extract handcrafted features from the dataset. \n",
    "- ii. Train and evaluate at least two machine learning classifiers (e.g., SVM, Neural \n",
    "network) to classify faces as \"with mask\" or \"without mask.\" \n",
    "- iii. Report and compare the accuracy of the classifiers. "
   ]
  },
  {
   "cell_type": "code",
   "execution_count": 58,
   "metadata": {},
   "outputs": [
    {
     "name": "stdout",
     "output_type": "stream",
     "text": [
      "Feature array shape: (4095, 8100), Labels shape: (4095,)\n",
      "Number of 'with_mask' images: 2165\n",
      "Number of 'without_mask' images: 1930\n"
     ]
    }
   ],
   "source": [
    "# load the dataset for normal ML models require 1D feature vector (HOG)\n",
    "\n",
    "# Set dataset path\n",
    "dataset_path = \"dataset\"\n",
    "\n",
    "# Storage for dataset\n",
    "data = []\n",
    "labels = []\n",
    "label_counts = {'with_mask': 0, 'without_mask': 0}\n",
    "\n",
    "\n",
    "# Load dataset\n",
    "for label in ['with_mask', 'without_mask']:\n",
    "    folder_path = os.path.join(dataset_path, label)\n",
    "    # print(f\"Processing folder: {folder_path}\")\n",
    "    for filename in os.listdir(folder_path):\n",
    "        file_path = os.path.join(folder_path, filename)\n",
    "        # print(f\"Processing file: {file_path}\")\n",
    "        try:\n",
    "            features = extract_features(file_path, use_hog=True)\n",
    "            data.append(features)\n",
    "            labels.append(1 if label == 'with_mask' else 0) # Encode 'with_mask' as 1 and 'without_mask' as 0\n",
    "            label_counts[label] += 1\n",
    "        except ValueError as e:\n",
    "            print(e) # Print the error message\n",
    "        except Exception as e:\n",
    "            print(f\"Unexpected error processing file {file_path}: {e}\")\n",
    "\n",
    "\n",
    "# Convert to numpy arrays\n",
    "X = np.array(data)\n",
    "y = np.array(labels)\n",
    "\n",
    "# Print dataset shape\n",
    "print(f\"Feature array shape: {X.shape}, Labels shape: {y.shape}\")\n",
    "print(f\"Number of 'with_mask' images: {label_counts['with_mask']}\")\n",
    "print(f\"Number of 'without_mask' images: {label_counts['without_mask']}\")"
   ]
  },
  {
   "cell_type": "code",
   "execution_count": 59,
   "metadata": {},
   "outputs": [
    {
     "name": "stdout",
     "output_type": "stream",
     "text": [
      "Training set size: 3276\n",
      "Testing set size: 819\n"
     ]
    }
   ],
   "source": [
    "# Split the dataset into training and testing sets\n",
    "X_train, X_test, y_train, y_test = train_test_split(X, y, test_size=0.2, random_state=42)\n",
    "\n",
    "# Print the sizes of the training and testing sets\n",
    "print(f\"Training set size: {X_train.shape[0]}\")\n",
    "print(f\"Testing set size: {X_test.shape[0]}\")"
   ]
  },
  {
   "cell_type": "code",
   "execution_count": 60,
   "metadata": {},
   "outputs": [
    {
     "name": "stdout",
     "output_type": "stream",
     "text": [
      "SVM Accuracy: 0.9304029304029304\n",
      "Classification Report:\n",
      "              precision    recall  f1-score   support\n",
      "\n",
      "           0       0.95      0.89      0.92       366\n",
      "           1       0.91      0.96      0.94       453\n",
      "\n",
      "    accuracy                           0.93       819\n",
      "   macro avg       0.93      0.93      0.93       819\n",
      "weighted avg       0.93      0.93      0.93       819\n",
      "\n"
     ]
    }
   ],
   "source": [
    "# Train and evaluate SVM classifier\n",
    "svm_clf = SVC()\n",
    "svm_clf.fit(X_train, y_train)\n",
    "y_pred_svm = svm_clf.predict(X_test)\n",
    "svm_accuracy = accuracy_score(y_test, y_pred_svm)\n",
    "\n",
    "# Report the accuracy of the SVM classifier\n",
    "print(f\"SVM Accuracy: {svm_accuracy}\")\n",
    "\n",
    "# Print classification report\n",
    "print(\"Classification Report:\")\n",
    "print(classification_report(y_test, y_pred_svm))"
   ]
  },
  {
   "cell_type": "code",
   "execution_count": 61,
   "metadata": {},
   "outputs": [
    {
     "name": "stdout",
     "output_type": "stream",
     "text": [
      "Confusion Matrix:\n"
     ]
    },
    {
     "data": {
      "text/plain": [
       "<sklearn.metrics._plot.confusion_matrix.ConfusionMatrixDisplay at 0x270142c9400>"
      ]
     },
     "execution_count": 61,
     "metadata": {},
     "output_type": "execute_result"
    },
    {
     "data": {
      "image/png": "[encoded data removed]",
      "text/plain": [
       "<Figure size 640x480 with 2 Axes>"
      ]
     },
     "metadata": {},
     "output_type": "display_data"
    }
   ],
   "source": [
    "\n",
    "# Print confusion matrix\n",
    "print(\"Confusion Matrix:\")\n",
    "ConfusionMatrixDisplay.from_predictions(y_test, y_pred_svm, display_labels=['without_mask', 'with_mask'])"
   ]
  },
  {
   "cell_type": "code",
   "execution_count": 62,
   "metadata": {},
   "outputs": [
    {
     "name": "stdout",
     "output_type": "stream",
     "text": [
      "Neural Network Accuracy: 0.9035409035409036\n",
      "Classification Report:\n",
      "              precision    recall  f1-score   support\n",
      "\n",
      "           0       0.91      0.87      0.89       366\n",
      "           1       0.90      0.93      0.91       453\n",
      "\n",
      "    accuracy                           0.90       819\n",
      "   macro avg       0.90      0.90      0.90       819\n",
      "weighted avg       0.90      0.90      0.90       819\n",
      "\n"
     ]
    }
   ],
   "source": [
    "# Train and evaluate Neural Network classifier\n",
    "nn_clf = MLPClassifier()\n",
    "nn_clf.fit(X_train, y_train)\n",
    "y_pred_nn = nn_clf.predict(X_test)\n",
    "nn_accuracy = accuracy_score(y_test, y_pred_nn)\n",
    "\n",
    "# Report the accuracy of the MLP classifier\n",
    "print(f\"Neural Network Accuracy: {nn_accuracy}\")\n",
    "\n",
    "# Print classification report\n",
    "print(\"Classification Report:\")\n",
    "print(classification_report(y_test, y_pred_nn))"
   ]
  },
  {
   "cell_type": "code",
   "execution_count": 63,
   "metadata": {},
   "outputs": [
    {
     "name": "stdout",
     "output_type": "stream",
     "text": [
      "Confusion Matrix:\n"
     ]
    },
    {
     "data": {
      "text/plain": [
       "<sklearn.metrics._plot.confusion_matrix.ConfusionMatrixDisplay at 0x27014796460>"
      ]
     },
     "execution_count": 63,
     "metadata": {},
     "output_type": "execute_result"
    },
    {
     "data": {
      "image/png": "[encoded data removed]",
      "text/plain": [
       "<Figure size 640x480 with 2 Axes>"
      ]
     },
     "metadata": {},
     "output_type": "display_data"
    }
   ],
   "source": [
    "# Print confusion matrix\n",
    "print(\"Confusion Matrix:\")\n",
    "ConfusionMatrixDisplay.from_predictions(y_test, y_pred_nn, display_labels=['without_mask', 'with_mask'])"
   ]
  },
  {
   "cell_type": "markdown",
   "metadata": {},
   "source": [
    "Part B. Binary Classification Using CNN (3 Marks) \n",
    "- i.Design and train a Convolutional Neural Network (CNN) to perform binary \n",
    "classification on the same dataset. \n",
    "- ii.Try a few hyper-parameter variations (e.g., learning rate, batch size, optimizer, activation function in the classification layer) and report the results. \n",
    "- iii.Compare the CNN's performance with the ML classifiers. "
   ]
  },
  {
   "cell_type": "code",
   "execution_count": 64,
   "metadata": {},
   "outputs": [
    {
     "name": "stdout",
     "output_type": "stream",
     "text": [
      "Feature array shape: (4095, 128, 128, 1), Labels shape: (4095,)\n",
      "Number of 'with_mask' images: 2165\n",
      "Number of 'without_mask' images: 1930\n"
     ]
    }
   ],
   "source": [
    "# Load the dataset for CNN model require 2D image array\n",
    "# Set dataset path\n",
    "dataset_path = \"dataset\"\n",
    "\n",
    "# Storage for dataset\n",
    "data = []\n",
    "labels = []\n",
    "label_counts = {'with_mask': 0, 'without_mask': 0}\n",
    "\n",
    "\n",
    "# Load dataset\n",
    "for label in ['with_mask', 'without_mask']:\n",
    "    folder_path = os.path.join(dataset_path, label)\n",
    "    # print(f\"Processing folder: {folder_path}\")\n",
    "    for filename in os.listdir(folder_path):\n",
    "        file_path = os.path.join(folder_path, filename)\n",
    "        # print(f\"Processing file: {file_path}\")\n",
    "        try:\n",
    "            features = extract_features(file_path, use_hog=False)\n",
    "            data.append(features)\n",
    "            labels.append(1 if label == 'with_mask' else 0)\n",
    "            label_counts[label] += 1\n",
    "        except ValueError as e:\n",
    "            print(e) # Print the error message\n",
    "        except Exception as e:\n",
    "            print(f\"Unexpected error processing file {file_path}: {e}\")\n",
    "\n",
    "\n",
    "# Convert to numpy arrays\n",
    "X = np.array(data)\n",
    "y = np.array(labels)\n",
    "\n",
    "# Print dataset shape\n",
    "print(f\"Feature array shape: {X.shape}, Labels shape: {y.shape}\")\n",
    "print(f\"Number of 'with_mask' images: {label_counts['with_mask']}\")\n",
    "print(f\"Number of 'without_mask' images: {label_counts['without_mask']}\")\n",
    "\n"
   ]
  },
  {
   "cell_type": "code",
   "execution_count": 65,
   "metadata": {},
   "outputs": [
    {
     "name": "stdout",
     "output_type": "stream",
     "text": [
      "Training set shape: (3276, 128, 128, 1), (3276, 2)\n",
      "Testing set shape: (819, 128, 128, 1), (819, 2)\n"
     ]
    }
   ],
   "source": [
    "# One-hot encode labels for categorical cross-entropy loss\n",
    "y = tf.keras.utils.to_categorical(y, 2)\n",
    "\n",
    "# Split dataset into training (80%) and testing (20%) sets\n",
    "X_train, X_test, y_train, y_test = train_test_split(X, y, test_size=0.2, random_state=42)\n",
    "\n",
    "# Print shapes to verify\n",
    "print(f\"Training set shape: {X_train.shape}, {y_train.shape}\")\n",
    "print(f\"Testing set shape: {X_test.shape}, {y_test.shape}\")\n"
   ]
  },
  {
   "cell_type": "code",
   "execution_count": 66,
   "metadata": {},
   "outputs": [
    {
     "name": "stdout",
     "output_type": "stream",
     "text": [
      "\n",
      "Training CNN Model 1 (Adam, higher dropout)...\n",
      "Epoch 1/5\n",
      "103/103 [==============================] - 54s 504ms/step - loss: 0.5763 - accuracy: 0.6795 - val_loss: 0.4184 - val_accuracy: 0.8144\n",
      "Epoch 2/5\n",
      "103/103 [==============================] - 67s 652ms/step - loss: 0.4033 - accuracy: 0.8214 - val_loss: 0.3700 - val_accuracy: 0.8291\n",
      "Epoch 3/5\n",
      "103/103 [==============================] - 77s 746ms/step - loss: 0.2530 - accuracy: 0.8959 - val_loss: 0.2421 - val_accuracy: 0.9096\n",
      "Epoch 4/5\n",
      "103/103 [==============================] - 73s 702ms/step - loss: 0.2003 - accuracy: 0.9246 - val_loss: 0.2058 - val_accuracy: 0.9194\n",
      "Epoch 5/5\n",
      "103/103 [==============================] - 70s 678ms/step - loss: 0.1514 - accuracy: 0.9441 - val_loss: 0.1904 - val_accuracy: 0.9341\n",
      "26/26 [==============================] - 4s 147ms/step - loss: 0.1904 - accuracy: 0.9341\n",
      " CNN Model 1 Test Accuracy: 0.9341\n"
     ]
    }
   ],
   "source": [
    "# -------------------------- CNN Model 1 --------------------------\n",
    "def cnn_model_1():\n",
    "    \"\"\"CNN Model 1: Uses Adam optimizer, and higher dropout.\"\"\"\n",
    "    model = Sequential([\n",
    "        Conv2D(32, (3, 3), activation='relu', input_shape=(128, 128, 1)),\n",
    "        MaxPooling2D(pool_size=(2, 2)),\n",
    "\n",
    "        Conv2D(64, (3, 3), activation='relu'),\n",
    "        MaxPooling2D(pool_size=(2, 2)),\n",
    "\n",
    "        Conv2D(128, (3, 3), activation='relu'),\n",
    "        MaxPooling2D(pool_size=(2, 2)),\n",
    "\n",
    "        Flatten(),\n",
    "        Dense(128, activation='relu'),\n",
    "        Dropout(0.5),  # Prevent overfitting\n",
    "        Dense(2, activation='sigmoid')  # as 2 output classes\n",
    "    ])\n",
    "\n",
    "    # Compile model using Adam optimizer\n",
    "    model.compile(loss='binary_crossentropy',\n",
    "                  optimizer=Adam(learning_rate=0.001),\n",
    "                  metrics=['accuracy'])\n",
    "    \n",
    "    return model\n",
    "\n",
    "# Train CNN Model 1\n",
    "cnn_model_1 = cnn_model_1()\n",
    "print(\"\\nTraining CNN Model 1 (Adam, higher dropout)...\")\n",
    "history_1 = cnn_model_1.fit(X_train, y_train, epochs=5, batch_size=32, validation_data=(X_test, y_test))\n",
    "test_loss_1, test_acc_1 = cnn_model_1.evaluate(X_test, y_test)\n",
    "print(f\" CNN Model 1 Test Accuracy: {test_acc_1:.4f}\")\n"
   ]
  },
  {
   "cell_type": "code",
   "execution_count": 67,
   "metadata": {},
   "outputs": [
    {
     "name": "stdout",
     "output_type": "stream",
     "text": [
      "26/26 [==============================] - 7s 241ms/step\n",
      "Confusion Matrix:\n"
     ]
    },
    {
     "data": {
      "text/plain": [
       "<sklearn.metrics._plot.confusion_matrix.ConfusionMatrixDisplay at 0x270502b5ac0>"
      ]
     },
     "execution_count": 67,
     "metadata": {},
     "output_type": "execute_result"
    },
    {
     "data": {
      "image/png": "[encoded data removed]",
      "text/plain": [
       "<Figure size 640x480 with 2 Axes>"
      ]
     },
     "metadata": {},
     "output_type": "display_data"
    }
   ],
   "source": [
    "# Predict the labels for the test set\n",
    "y_pred_cnn_1 = cnn_model_1.predict(X_test)\n",
    "y_pred_cnn_1_classes = np.argmax(y_pred_cnn_1, axis=1)\n",
    "y_test_classes = np.argmax(y_test, axis=1)\n",
    "\n",
    "# Print confusion matrix\n",
    "print(\"Confusion Matrix:\")\n",
    "ConfusionMatrixDisplay.from_predictions(y_test_classes, y_pred_cnn_1_classes, display_labels=['without_mask', 'with_mask'])"
   ]
  },
  {
   "cell_type": "code",
   "execution_count": 68,
   "metadata": {},
   "outputs": [
    {
     "name": "stdout",
     "output_type": "stream",
     "text": [
      "\n",
      "Training CNN Model 2 (SGD, batch norm, lower dropout)...\n",
      "Epoch 1/5\n",
      "103/103 [==============================] - 92s 865ms/step - loss: 0.4460 - accuracy: 0.8153 - val_loss: 0.9700 - val_accuracy: 0.4518\n",
      "Epoch 2/5\n",
      "103/103 [==============================] - 91s 881ms/step - loss: 0.2232 - accuracy: 0.9170 - val_loss: 1.6685 - val_accuracy: 0.4469\n",
      "Epoch 3/5\n",
      "103/103 [==============================] - 88s 852ms/step - loss: 0.1512 - accuracy: 0.9444 - val_loss: 2.0875 - val_accuracy: 0.4664\n",
      "Epoch 4/5\n",
      "103/103 [==============================] - 87s 841ms/step - loss: 0.1123 - accuracy: 0.9625 - val_loss: 1.0747 - val_accuracy: 0.6117\n",
      "Epoch 5/5\n",
      "103/103 [==============================] - 105s 1s/step - loss: 0.0767 - accuracy: 0.9734 - val_loss: 0.4769 - val_accuracy: 0.7961\n",
      "26/26 [==============================] - 6s 241ms/step - loss: 0.4769 - accuracy: 0.7961\n",
      " CNN Model 2 Test Accuracy: 0.7961\n"
     ]
    }
   ],
   "source": [
    "# -------------------------- CNN Model 2 --------------------------\n",
    "def cnn_model_2():\n",
    "    \"\"\"CNN Model 2: Uses SGD optimizer, batch normalization.\"\"\"\n",
    "    model = Sequential([\n",
    "        Conv2D(32, (5, 5), activation='relu', input_shape=(128, 128, 1)),\n",
    "        BatchNormalization(),  # Normalize activations\n",
    "        MaxPooling2D(pool_size=(2, 2)),\n",
    "\n",
    "        Conv2D(64, (5, 5), activation='relu'),\n",
    "        BatchNormalization(),\n",
    "        MaxPooling2D(pool_size=(2, 2)),\n",
    "\n",
    "        Flatten(),\n",
    "        Dense(64, activation='relu'),\n",
    "        Dropout(0.3),  # Lower dropout than model 1\n",
    "        Dense(2, activation='sigmoid')  # 2 output classes\n",
    "    ])\n",
    "\n",
    "    # Compile model using SGD optimizer\n",
    "    model.compile(loss='binary_crossentropy',\n",
    "                  optimizer=SGD(learning_rate=0.001, momentum=0.9),\n",
    "                  metrics=['accuracy'])\n",
    "    \n",
    "    return model\n",
    "\n",
    "\n",
    "# Train CNN Model 2\n",
    "cnn_model_2 = cnn_model_2()\n",
    "print(\"\\nTraining CNN Model 2 (SGD, batch norm, lower dropout)...\")\n",
    "history_2 = cnn_model_2.fit(X_train, y_train, epochs=5, batch_size=32, validation_data=(X_test, y_test))\n",
    "test_loss_2, test_acc_2 = cnn_model_2.evaluate(X_test, y_test)\n",
    "print(f\" CNN Model 2 Test Accuracy: {test_acc_2:.4f}\")\n"
   ]
  },
  {
   "cell_type": "code",
   "execution_count": 69,
   "metadata": {},
   "outputs": [
    {
     "name": "stdout",
     "output_type": "stream",
     "text": [
      "26/26 [==============================] - 9s 358ms/step\n",
      "Confusion Matrix:\n"
     ]
    },
    {
     "data": {
      "text/plain": [
       "<sklearn.metrics._plot.confusion_matrix.ConfusionMatrixDisplay at 0x270503a3640>"
      ]
     },
     "execution_count": 69,
     "metadata": {},
     "output_type": "execute_result"
    },
    {
     "data": {
      "image/png": "[encoded data removed]",
      "text/plain": [
       "<Figure size 640x480 with 2 Axes>"
      ]
     },
     "metadata": {},
     "output_type": "display_data"
    }
   ],
   "source": [
    "# Predict the labels for the test set using CNN Model 2\n",
    "y_pred_cnn_2 = cnn_model_2.predict(X_test)\n",
    "y_pred_cnn_2_classes = np.argmax(y_pred_cnn_2, axis=1)\n",
    "\n",
    "# Print confusion matrix\n",
    "print(\"Confusion Matrix:\")\n",
    "ConfusionMatrixDisplay.from_predictions(y_test_classes, y_pred_cnn_2_classes, display_labels=['without_mask', 'with_mask'])"
   ]
  },
  {
   "cell_type": "markdown",
   "metadata": {},
   "source": [
    "### Accuracy Comparison"
   ]
  },
  {
   "cell_type": "code",
   "execution_count": 70,
   "metadata": {},
   "outputs": [
    {
     "name": "stdout",
     "output_type": "stream",
     "text": [
      "\n",
      "Comparison of Models:\n",
      "+----------------------------+------------+\n",
      "| Model                      |   Accuracy |\n",
      "+============================+============+\n",
      "| Model 1 SVC                |     0.9304 |\n",
      "+----------------------------+------------+\n",
      "| Model 2 MLP neural network |     0.9035 |\n",
      "+----------------------------+------------+\n",
      "| Model 1 (Adam)             |     0.9341 |\n",
      "+----------------------------+------------+\n",
      "| Model 2 (SGD, batch norm)  |     0.7961 |\n",
      "+----------------------------+------------+\n"
     ]
    }
   ],
   "source": [
    "# Compare model performance\n",
    "data = [\n",
    "    [\"Model 1 SVC\", f\"{svm_accuracy:.4f}\"],\n",
    "    [\"Model 2 MLP neural network\", f\"{nn_accuracy:.4f}\"],\n",
    "    [\"Model 1 (Adam)\", f\"{test_acc_1:.4f}\"],\n",
    "    [\"Model 2 (SGD, batch norm)\", f\"{test_acc_2:.4f}\"]\n",
    "]\n",
    "\n",
    "# Print comparison in tabular format\n",
    "print(\"\\nComparison of Models:\")\n",
    "print(tabulate(data, headers=[\"Model\", \"Accuracy\"], tablefmt=\"grid\"))"
   ]
  }
 ],
 "metadata": {
  "kernelspec": {
   "display_name": "tfenv",
   "language": "python",
   "name": "python3"
  },
  "language_info": {
   "codemirror_mode": {
    "name": "ipython",
    "version": 3
   },
   "file_extension": ".py",
   "mimetype": "text/x-python",
   "name": "python",
   "nbconvert_exporter": "python",
   "pygments_lexer": "ipython3",
   "version": "3.9.18"
  }
 },
 "nbformat": 4,
 "nbformat_minor": 2
}
